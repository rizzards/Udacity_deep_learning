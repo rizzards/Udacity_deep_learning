{
 "cells": [
  {
   "cell_type": "markdown",
   "metadata": {},
   "source": [
    "# Introduction\n",
    "\n",
    "In this project, you will build a neural network of your own design to evaluate the MNIST dataset.\n",
    "\n",
    "Some of the benchmark results on MNIST include can be found [on Yann LeCun's page](http://yann.lecun.com/exdb/mnist/) and include:\n",
    "\n",
    "88% [Lecun et al., 1998](http://yann.lecun.com/exdb/publis/pdf/lecun-98.pdf)\n",
    "95.3% [Lecun et al., 1998](http://yann.lecun.com/exdb/publis/pdf/lecun-98.pdf)\n",
    "99.65% [Ciresan et al., 2011](http://people.idsia.ch/~juergen/ijcai2011.pdf)\n",
    "\n",
    "MNIST is a great dataset for sanity checking your models, since the accuracy levels achieved by large convolutional neural networks and small linear models are both quite high. This makes it important to be familiar with the data.\n",
    "\n",
    "## Installation"
   ]
  },
  {
   "cell_type": "code",
   "execution_count": null,
   "metadata": {},
   "outputs": [],
   "source": [
    "# Update the PATH to include the user installation directory. \n",
    "import os\n",
    "os.environ['PATH'] = f\"{os.environ['PATH']}:/root/.local/bin\"\n",
    "\n",
    "# Restart the Kernel before you move on to the next step."
   ]
  },
  {
   "cell_type": "markdown",
   "metadata": {},
   "source": [
    "#### Important: Restart the Kernel before you move on to the next step."
   ]
  },
  {
   "cell_type": "code",
   "execution_count": 1,
   "metadata": {},
   "outputs": [
    {
     "name": "stdout",
     "output_type": "stream",
     "text": [
      "Defaulting to user installation because normal site-packages is not writeable\n",
      "Requirement already satisfied: opencv-python-headless==4.5.3.56 in /root/.local/lib/python3.7/site-packages (from -r requirements.txt (line 1)) (4.5.3.56)\n",
      "Requirement already satisfied: matplotlib==3.4.3 in /opt/conda/lib/python3.7/site-packages (from -r requirements.txt (line 2)) (3.4.3)\n",
      "Requirement already satisfied: numpy==1.21.2 in /opt/conda/lib/python3.7/site-packages (from -r requirements.txt (line 3)) (1.21.2)\n",
      "Requirement already satisfied: pillow==7.0.0 in /opt/conda/lib/python3.7/site-packages (from -r requirements.txt (line 4)) (7.0.0)\n",
      "Requirement already satisfied: bokeh==2.1.1 in /root/.local/lib/python3.7/site-packages (from -r requirements.txt (line 5)) (2.1.1)\n",
      "Requirement already satisfied: torch==1.11.0 in /opt/conda/lib/python3.7/site-packages (from -r requirements.txt (line 6)) (1.11.0)\n",
      "Requirement already satisfied: torchvision==0.12.0 in /root/.local/lib/python3.7/site-packages (from -r requirements.txt (line 7)) (0.12.0)\n",
      "Requirement already satisfied: tqdm==4.63.0 in /root/.local/lib/python3.7/site-packages (from -r requirements.txt (line 8)) (4.63.0)\n",
      "Requirement already satisfied: ipywidgets==7.7.0 in /root/.local/lib/python3.7/site-packages (from -r requirements.txt (line 9)) (7.7.0)\n",
      "Requirement already satisfied: livelossplot==0.5.4 in /root/.local/lib/python3.7/site-packages (from -r requirements.txt (line 10)) (0.5.4)\n",
      "Requirement already satisfied: pytest==7.1.1 in /root/.local/lib/python3.7/site-packages (from -r requirements.txt (line 11)) (7.1.1)\n",
      "Requirement already satisfied: pandas==1.3.5 in /root/.local/lib/python3.7/site-packages (from -r requirements.txt (line 12)) (1.3.5)\n",
      "Requirement already satisfied: seaborn==0.11.2 in /root/.local/lib/python3.7/site-packages (from -r requirements.txt (line 13)) (0.11.2)\n",
      "Requirement already satisfied: jupyter==1.0.0 in /root/.local/lib/python3.7/site-packages (from -r requirements.txt (line 14)) (1.0.0)\n",
      "Requirement already satisfied: ipykernel==4.10.0 in /root/.local/lib/python3.7/site-packages (from -r requirements.txt (line 15)) (4.10.0)\n",
      "Requirement already satisfied: python-dateutil>=2.7 in /opt/conda/lib/python3.7/site-packages (from matplotlib==3.4.3->-r requirements.txt (line 2)) (2.8.1)\n",
      "Requirement already satisfied: cycler>=0.10 in /opt/conda/lib/python3.7/site-packages (from matplotlib==3.4.3->-r requirements.txt (line 2)) (0.10.0)\n",
      "Requirement already satisfied: pyparsing>=2.2.1 in /opt/conda/lib/python3.7/site-packages (from matplotlib==3.4.3->-r requirements.txt (line 2)) (2.4.6)\n",
      "Requirement already satisfied: kiwisolver>=1.0.1 in /opt/conda/lib/python3.7/site-packages (from matplotlib==3.4.3->-r requirements.txt (line 2)) (1.1.0)\n",
      "Requirement already satisfied: packaging>=16.8 in /opt/conda/lib/python3.7/site-packages (from bokeh==2.1.1->-r requirements.txt (line 5)) (20.1)\n",
      "Requirement already satisfied: typing-extensions>=3.7.4 in /opt/conda/lib/python3.7/site-packages (from bokeh==2.1.1->-r requirements.txt (line 5)) (3.7.4.1)\n",
      "Requirement already satisfied: tornado>=5.1 in /opt/conda/lib/python3.7/site-packages (from bokeh==2.1.1->-r requirements.txt (line 5)) (5.1.1)\n",
      "Requirement already satisfied: PyYAML>=3.10 in /opt/conda/lib/python3.7/site-packages (from bokeh==2.1.1->-r requirements.txt (line 5)) (5.3)\n",
      "Requirement already satisfied: Jinja2>=2.7 in /opt/conda/lib/python3.7/site-packages (from bokeh==2.1.1->-r requirements.txt (line 5)) (2.11.1)\n",
      "Requirement already satisfied: requests in /opt/conda/lib/python3.7/site-packages (from torchvision==0.12.0->-r requirements.txt (line 7)) (2.23.0)\n",
      "Requirement already satisfied: traitlets>=4.3.1 in /opt/conda/lib/python3.7/site-packages (from ipywidgets==7.7.0->-r requirements.txt (line 9)) (4.3.3)\n",
      "Requirement already satisfied: ipython-genutils~=0.2.0 in /opt/conda/lib/python3.7/site-packages (from ipywidgets==7.7.0->-r requirements.txt (line 9)) (0.2.0)\n",
      "Requirement already satisfied: jupyterlab-widgets>=1.0.0; python_version >= \"3.6\" in /root/.local/lib/python3.7/site-packages (from ipywidgets==7.7.0->-r requirements.txt (line 9)) (3.0.9)\n",
      "Requirement already satisfied: nbformat>=4.2.0 in /opt/conda/lib/python3.7/site-packages (from ipywidgets==7.7.0->-r requirements.txt (line 9)) (5.0.4)\n",
      "Requirement already satisfied: ipython>=4.0.0; python_version >= \"3.3\" in /opt/conda/lib/python3.7/site-packages (from ipywidgets==7.7.0->-r requirements.txt (line 9)) (7.13.0)\n",
      "Requirement already satisfied: widgetsnbextension~=3.6.0 in /root/.local/lib/python3.7/site-packages (from ipywidgets==7.7.0->-r requirements.txt (line 9)) (3.6.6)\n",
      "Requirement already satisfied: attrs>=19.2.0 in /opt/conda/lib/python3.7/site-packages (from pytest==7.1.1->-r requirements.txt (line 11)) (19.3.0)\n",
      "Requirement already satisfied: tomli>=1.0.0 in /root/.local/lib/python3.7/site-packages (from pytest==7.1.1->-r requirements.txt (line 11)) (2.0.1)\n",
      "Requirement already satisfied: py>=1.8.2 in /root/.local/lib/python3.7/site-packages (from pytest==7.1.1->-r requirements.txt (line 11)) (1.11.0)\n",
      "Requirement already satisfied: iniconfig in /root/.local/lib/python3.7/site-packages (from pytest==7.1.1->-r requirements.txt (line 11)) (2.0.0)\n",
      "Requirement already satisfied: pluggy<2.0,>=0.12 in /root/.local/lib/python3.7/site-packages (from pytest==7.1.1->-r requirements.txt (line 11)) (1.2.0)\n",
      "Requirement already satisfied: importlib-metadata>=0.12; python_version < \"3.8\" in /opt/conda/lib/python3.7/site-packages (from pytest==7.1.1->-r requirements.txt (line 11)) (1.5.0)\n",
      "Requirement already satisfied: pytz>=2017.3 in /opt/conda/lib/python3.7/site-packages (from pandas==1.3.5->-r requirements.txt (line 12)) (2019.3)\n",
      "Requirement already satisfied: scipy>=1.0 in /opt/conda/lib/python3.7/site-packages (from seaborn==0.11.2->-r requirements.txt (line 13)) (1.7.1)\n",
      "Requirement already satisfied: jupyter-console in /root/.local/lib/python3.7/site-packages (from jupyter==1.0.0->-r requirements.txt (line 14)) (6.6.3)\n",
      "Requirement already satisfied: nbconvert in /opt/conda/lib/python3.7/site-packages (from jupyter==1.0.0->-r requirements.txt (line 14)) (5.6.1)\n",
      "Requirement already satisfied: qtconsole in /root/.local/lib/python3.7/site-packages (from jupyter==1.0.0->-r requirements.txt (line 14)) (5.4.4)\n",
      "Requirement already satisfied: notebook in /opt/conda/lib/python3.7/site-packages (from jupyter==1.0.0->-r requirements.txt (line 14)) (5.7.4)\n",
      "Requirement already satisfied: jupyter-client in /opt/conda/lib/python3.7/site-packages (from ipykernel==4.10.0->-r requirements.txt (line 15)) (6.0.0)\n",
      "Requirement already satisfied: six>=1.5 in /opt/conda/lib/python3.7/site-packages (from python-dateutil>=2.7->matplotlib==3.4.3->-r requirements.txt (line 2)) (1.16.0)\n",
      "Requirement already satisfied: setuptools in /opt/conda/lib/python3.7/site-packages (from kiwisolver>=1.0.1->matplotlib==3.4.3->-r requirements.txt (line 2)) (45.2.0.post20200209)\n",
      "Requirement already satisfied: MarkupSafe>=0.23 in /opt/conda/lib/python3.7/site-packages (from Jinja2>=2.7->bokeh==2.1.1->-r requirements.txt (line 5)) (1.1.1)\n",
      "Requirement already satisfied: certifi>=2017.4.17 in /opt/conda/lib/python3.7/site-packages (from requests->torchvision==0.12.0->-r requirements.txt (line 7)) (2019.11.28)\n",
      "Requirement already satisfied: idna<3,>=2.5 in /opt/conda/lib/python3.7/site-packages (from requests->torchvision==0.12.0->-r requirements.txt (line 7)) (2.9)\n",
      "Requirement already satisfied: chardet<4,>=3.0.2 in /opt/conda/lib/python3.7/site-packages (from requests->torchvision==0.12.0->-r requirements.txt (line 7)) (3.0.4)\n",
      "Requirement already satisfied: urllib3!=1.25.0,!=1.25.1,<1.26,>=1.21.1 in /opt/conda/lib/python3.7/site-packages (from requests->torchvision==0.12.0->-r requirements.txt (line 7)) (1.25.7)\n",
      "Requirement already satisfied: decorator in /opt/conda/lib/python3.7/site-packages (from traitlets>=4.3.1->ipywidgets==7.7.0->-r requirements.txt (line 9)) (4.4.2)\n",
      "Requirement already satisfied: jupyter-core in /opt/conda/lib/python3.7/site-packages (from nbformat>=4.2.0->ipywidgets==7.7.0->-r requirements.txt (line 9)) (4.6.3)\n",
      "Requirement already satisfied: jsonschema!=2.5.0,>=2.4 in /opt/conda/lib/python3.7/site-packages (from nbformat>=4.2.0->ipywidgets==7.7.0->-r requirements.txt (line 9)) (3.2.0)\n",
      "Requirement already satisfied: pygments in /opt/conda/lib/python3.7/site-packages (from ipython>=4.0.0; python_version >= \"3.3\"->ipywidgets==7.7.0->-r requirements.txt (line 9)) (2.5.2)\n",
      "Requirement already satisfied: backcall in /opt/conda/lib/python3.7/site-packages (from ipython>=4.0.0; python_version >= \"3.3\"->ipywidgets==7.7.0->-r requirements.txt (line 9)) (0.1.0)\n"
     ]
    },
    {
     "name": "stdout",
     "output_type": "stream",
     "text": [
      "Requirement already satisfied: jedi>=0.10 in /opt/conda/lib/python3.7/site-packages (from ipython>=4.0.0; python_version >= \"3.3\"->ipywidgets==7.7.0->-r requirements.txt (line 9)) (0.16.0)\n",
      "Requirement already satisfied: prompt-toolkit!=3.0.0,!=3.0.1,<3.1.0,>=2.0.0 in /opt/conda/lib/python3.7/site-packages (from ipython>=4.0.0; python_version >= \"3.3\"->ipywidgets==7.7.0->-r requirements.txt (line 9)) (3.0.3)\n",
      "Requirement already satisfied: pexpect; sys_platform != \"win32\" in /opt/conda/lib/python3.7/site-packages (from ipython>=4.0.0; python_version >= \"3.3\"->ipywidgets==7.7.0->-r requirements.txt (line 9)) (4.8.0)\n",
      "Requirement already satisfied: pickleshare in /opt/conda/lib/python3.7/site-packages (from ipython>=4.0.0; python_version >= \"3.3\"->ipywidgets==7.7.0->-r requirements.txt (line 9)) (0.7.5)\n",
      "Requirement already satisfied: zipp>=0.5 in /opt/conda/lib/python3.7/site-packages (from importlib-metadata>=0.12; python_version < \"3.8\"->pytest==7.1.1->-r requirements.txt (line 11)) (3.0.0)\n",
      "Requirement already satisfied: pyzmq>=17 in /opt/conda/lib/python3.7/site-packages (from jupyter-console->jupyter==1.0.0->-r requirements.txt (line 14)) (19.0.0)\n",
      "Requirement already satisfied: mistune<2,>=0.8.1 in /opt/conda/lib/python3.7/site-packages (from nbconvert->jupyter==1.0.0->-r requirements.txt (line 14)) (0.8.4)\n",
      "Requirement already satisfied: pandocfilters>=1.4.1 in /opt/conda/lib/python3.7/site-packages (from nbconvert->jupyter==1.0.0->-r requirements.txt (line 14)) (1.4.2)\n",
      "Requirement already satisfied: entrypoints>=0.2.2 in /opt/conda/lib/python3.7/site-packages (from nbconvert->jupyter==1.0.0->-r requirements.txt (line 14)) (0.3)\n",
      "Requirement already satisfied: bleach in /opt/conda/lib/python3.7/site-packages (from nbconvert->jupyter==1.0.0->-r requirements.txt (line 14)) (3.1.1)\n",
      "Requirement already satisfied: defusedxml in /opt/conda/lib/python3.7/site-packages (from nbconvert->jupyter==1.0.0->-r requirements.txt (line 14)) (0.6.0)\n",
      "Requirement already satisfied: testpath in /opt/conda/lib/python3.7/site-packages (from nbconvert->jupyter==1.0.0->-r requirements.txt (line 14)) (0.4.4)\n",
      "Requirement already satisfied: qtpy>=2.4.0 in /root/.local/lib/python3.7/site-packages (from qtconsole->jupyter==1.0.0->-r requirements.txt (line 14)) (2.4.0)\n",
      "Requirement already satisfied: prometheus-client in /opt/conda/lib/python3.7/site-packages (from notebook->jupyter==1.0.0->-r requirements.txt (line 14)) (0.7.1)\n",
      "Requirement already satisfied: Send2Trash in /opt/conda/lib/python3.7/site-packages (from notebook->jupyter==1.0.0->-r requirements.txt (line 14)) (1.5.0)\n",
      "Requirement already satisfied: terminado>=0.8.1 in /opt/conda/lib/python3.7/site-packages (from notebook->jupyter==1.0.0->-r requirements.txt (line 14)) (0.8.3)\n",
      "Requirement already satisfied: pyrsistent>=0.14.0 in /opt/conda/lib/python3.7/site-packages (from jsonschema!=2.5.0,>=2.4->nbformat>=4.2.0->ipywidgets==7.7.0->-r requirements.txt (line 9)) (0.15.7)\n",
      "Requirement already satisfied: parso>=0.5.2 in /opt/conda/lib/python3.7/site-packages (from jedi>=0.10->ipython>=4.0.0; python_version >= \"3.3\"->ipywidgets==7.7.0->-r requirements.txt (line 9)) (0.6.1)\n",
      "Requirement already satisfied: wcwidth in /opt/conda/lib/python3.7/site-packages (from prompt-toolkit!=3.0.0,!=3.0.1,<3.1.0,>=2.0.0->ipython>=4.0.0; python_version >= \"3.3\"->ipywidgets==7.7.0->-r requirements.txt (line 9)) (0.1.8)\n",
      "Requirement already satisfied: ptyprocess>=0.5 in /opt/conda/lib/python3.7/site-packages (from pexpect; sys_platform != \"win32\"->ipython>=4.0.0; python_version >= \"3.3\"->ipywidgets==7.7.0->-r requirements.txt (line 9)) (0.6.0)\n",
      "Requirement already satisfied: webencodings in /opt/conda/lib/python3.7/site-packages (from bleach->nbconvert->jupyter==1.0.0->-r requirements.txt (line 14)) (0.5.1)\n"
     ]
    }
   ],
   "source": [
    "# Install requirements\n",
    "!python -m pip install -r requirements.txt"
   ]
  },
  {
   "cell_type": "markdown",
   "metadata": {},
   "source": [
    "## Imports"
   ]
  },
  {
   "cell_type": "code",
   "execution_count": 2,
   "metadata": {},
   "outputs": [],
   "source": [
    "## This cell contains the essential imports you will need – DO NOT CHANGE THE CONTENTS! ##\n",
    "import torch\n",
    "import torch.nn as nn\n",
    "import torch.nn.functional as F\n",
    "import torch.optim as optim\n",
    "from torch.utils.data import DataLoader, Subset\n",
    "import torchvision\n",
    "from torchvision import transforms\n",
    "from torchvision import datasets\n",
    "import torchvision.transforms as transforms\n",
    "import matplotlib.pyplot as plt\n",
    "import numpy as np"
   ]
  },
  {
   "cell_type": "markdown",
   "metadata": {},
   "source": [
    "## Load the Dataset\n",
    "\n",
    "Specify your transforms as a list if you intend to .\n",
    "The transforms module is already loaded as `transforms`.\n",
    "\n",
    "MNIST is fortunately included in the torchvision module.\n",
    "Then, you can create your dataset using the `MNIST` object from `torchvision.datasets` ([the documentation is available here](https://pytorch.org/vision/stable/datasets.html#mnist)).\n",
    "Make sure to specify `download=True`! \n",
    "\n",
    "Once your dataset is created, you'll also need to define a `DataLoader` from the `torch.utils.data` module for both the train and the test set."
   ]
  },
  {
   "cell_type": "code",
   "execution_count": 3,
   "metadata": {},
   "outputs": [
    {
     "name": "stdout",
     "output_type": "stream",
     "text": [
      "torch.Size([60000, 28, 28])\n",
      "Min Pixel Value: 0 \n",
      "Max Pixel Value: 255\n",
      "Mean Pixel Value 33.31842041015625 \n",
      "Pixel Values Std: 78.56748962402344\n",
      "Scaled Mean Pixel Value 0.13066047430038452 \n",
      "Scaled Pixel Values Std: 0.30810779333114624\n"
     ]
    }
   ],
   "source": [
    "# Explore the data\n",
    "transform_base = transforms.Compose([transforms.ToTensor()])\n",
    "training_data_base = datasets.MNIST(root=\"data\", train=True, download=True, transform=transform_base)\n",
    "train_loader_base = DataLoader(training_data_base, batch_size=32, shuffle=True)\n",
    "\n",
    "print(training_data_base.data.shape)\n",
    "print('Min Pixel Value: {} \\nMax Pixel Value: {}'.format(training_data_base.data.min(), training_data_base.data.max()))\n",
    "print('Mean Pixel Value {} \\nPixel Values Std: {}'.format(training_data_base.data.float().mean(), training_data_base.data.float().std()))\n",
    "print('Scaled Mean Pixel Value {} \\nScaled Pixel Values Std: {}'.format(training_data_base.data.float().mean() / 255, training_data_base.data.float().std() / 255))\n"
   ]
  },
  {
   "cell_type": "code",
   "execution_count": 4,
   "metadata": {},
   "outputs": [
    {
     "name": "stdout",
     "output_type": "stream",
     "text": [
      "torch.Size([60000, 28, 28])\n",
      "torch.Size([10000, 28, 28])\n"
     ]
    }
   ],
   "source": [
    "# Define transforms, create training set and define training dataloader\n",
    "# transform = transforms.Compose([transforms.ToTensor(), transforms.Normalize((0.1306,), (0.3081, )), torch.flatten])\n",
    "transform = transforms.Compose([transforms.ToTensor(), transforms.Normalize((0.1306,), (0.3081, ))])\n",
    "training_data_start = datasets.MNIST(root=\"data\", train=True, download=True, transform=transform)\n",
    "print(training_data_start.data.shape)\n",
    "\n",
    "# Split the dataset into training and validation sets\n",
    "train_dataset = Subset(training_data_start, range(0, 50000))\n",
    "val_dataset = Subset(training_data_start, range(50000, 60000))\n",
    "\n",
    "train_loader = DataLoader(train_dataset, batch_size=28, shuffle=True)\n",
    "val_loader = DataLoader(val_dataset, batch_size=28, shuffle=True)\n",
    "\n",
    "# Create test set and define test dataloader\n",
    "test_data = datasets.MNIST(root=\"data\", train=False, download=True, transform=transform)\n",
    "test_loader = DataLoader(test_data, batch_size=28)\n",
    "print(test_data.data.shape)"
   ]
  },
  {
   "cell_type": "markdown",
   "metadata": {},
   "source": [
    "## Justify your preprocessing\n",
    "\n",
    "In your own words, why did you choose the transforms you chose? If you didn't use any preprocessing steps, why not?"
   ]
  },
  {
   "cell_type": "markdown",
   "metadata": {},
   "source": [
    "The data are first normalized after having calculated the train sample mean and standard deviation, which are respectively of 0.1306 and 0.3081. Normalizing image data transforms the values to the same range as our activation functions, usually between 0 and 1. This allows for less frequent non-zero gradients during training, and therefore the neurons in our network will learn faster. \n",
    "Flattening the data instead allows to includes all feautures in the starting layer of the neural network when linear lazer is defined. In case of the application of a convolutional layer, the flattening would have not been required."
   ]
  },
  {
   "cell_type": "markdown",
   "metadata": {},
   "source": [
    "## Explore the Dataset\n",
    "Using matplotlib, numpy, and torch, explore the dimensions of your data.\n",
    "\n",
    "You can view images using the `show5` function defined below – it takes a data loader as an argument.\n",
    "Remember that normalized images will look really weird to you! You may want to try changing your transforms to view images.\n",
    "Typically using no transforms other than `toTensor()` works well for viewing – but not as well for training your network.\n",
    "If `show5` doesn't work, go back and check your code for creating your data loaders and your training/test sets."
   ]
  },
  {
   "cell_type": "code",
   "execution_count": 5,
   "metadata": {},
   "outputs": [],
   "source": [
    "## This cell contains a function for showing 5 images from a dataloader – DO NOT CHANGE THE CONTENTS! ##\n",
    "def show5(img_loader):\n",
    "    dataiter = iter(img_loader)\n",
    "    \n",
    "    batch = next(dataiter)\n",
    "    labels = batch[1][0:5]\n",
    "    images = batch[0][0:5]\n",
    "    for i in range(5):\n",
    "        print(int(labels[i].detach()))\n",
    "    \n",
    "        image = images[i].numpy()\n",
    "        plt.imshow(image.T.squeeze().T)\n",
    "        plt.show()"
   ]
  },
  {
   "cell_type": "code",
   "execution_count": 6,
   "metadata": {},
   "outputs": [
    {
     "name": "stdout",
     "output_type": "stream",
     "text": [
      "2\n"
     ]
    },
    {
     "data": {
      "image/png": "[encoded data removed]",
      "text/plain": [
       "<Figure size 432x288 with 1 Axes>"
      ]
     },
     "metadata": {
      "needs_background": "light"
     },
     "output_type": "display_data"
    },
    {
     "name": "stdout",
     "output_type": "stream",
     "text": [
      "7\n"
     ]
    },
    {
     "data": {
      "image/png": "[encoded data removed]",
      "text/plain": [
       "<Figure size 432x288 with 1 Axes>"
      ]
     },
     "metadata": {
      "needs_background": "light"
     },
     "output_type": "display_data"
    },
    {
     "name": "stdout",
     "output_type": "stream",
     "text": [
      "1\n"
     ]
    },
    {
     "data": {
      "image/png": "[encoded data removed]",
      "text/plain": [
       "<Figure size 432x288 with 1 Axes>"
      ]
     },
     "metadata": {
      "needs_background": "light"
     },
     "output_type": "display_data"
    },
    {
     "name": "stdout",
     "output_type": "stream",
     "text": [
      "0\n"
     ]
    },
    {
     "data": {
      "image/png": "[encoded data removed]",
      "text/plain": [
       "<Figure size 432x288 with 1 Axes>"
      ]
     },
     "metadata": {
      "needs_background": "light"
     },
     "output_type": "display_data"
    },
    {
     "name": "stdout",
     "output_type": "stream",
     "text": [
      "3\n"
     ]
    },
    {
     "data": {
      "image/png": "[encoded data removed]",
      "text/plain": [
       "<Figure size 432x288 with 1 Axes>"
      ]
     },
     "metadata": {
      "needs_background": "light"
     },
     "output_type": "display_data"
    }
   ],
   "source": [
    "# Explore data\n",
    "show5(train_loader_base)"
   ]
  },
  {
   "cell_type": "markdown",
   "metadata": {},
   "source": [
    "## Build your Neural Network\n",
    "Using the layers in `torch.nn` (which has been imported as `nn`) and the `torch.nn.functional` module (imported as `F`), construct a neural network based on the parameters of the dataset.\n",
    "Use any architecture you like. \n",
    "\n",
    "*Note*: If you did not flatten your tensors in your transforms or as part of your preprocessing and you are using only `Linear` layers, make sure to use the `Flatten` layer in your network!"
   ]
  },
  {
   "cell_type": "code",
   "execution_count": 7,
   "metadata": {},
   "outputs": [],
   "source": [
    "# Define the class of the neural network\n",
    "class Net(nn.Module):\n",
    "    def __init__(self):\n",
    "        super(Net, self).__init__()\n",
    "        self.flatten = nn.Flatten()\n",
    "        self.fc1 = nn.Linear(28*28, 512)\n",
    "        self.fc2 = nn.Linear(512, 256)\n",
    "        self.fc3 = nn.Linear(256, 128)\n",
    "        self.fc4 = nn.Linear(128, 64)\n",
    "        self.fc5 = nn.Linear(64, 10)\n",
    "        \n",
    "        # Dropout module with 0.2 probbability\n",
    "        self.dropout = nn.Dropout(p=0.2)\n",
    "        self.log_softmax = F.log_softmax\n",
    "\n",
    "    def forward(self, x):        \n",
    "        x = self.flatten(x)\n",
    "        x = self.dropout(F.relu(self.fc1(x)))\n",
    "        x = self.dropout(F.relu(self.fc2(x)))\n",
    "        x = self.dropout(F.relu(self.fc3(x)))\n",
    "        x = self.dropout(F.relu(self.fc4(x)))\n",
    "        x = self.log_softmax(self.fc5(x), dim=1)       \n",
    "        \n",
    "        return x\n",
    "\n",
    "device = torch.device('cuda' if torch.cuda.is_available() else 'cpu')\n",
    "device\n",
    "\n",
    "# Send the model to the device (CPU or GPU)\n",
    "model = Net().to(device)"
   ]
  },
  {
   "cell_type": "markdown",
   "metadata": {},
   "source": [
    "Specify a loss function and an optimizer, and instantiate the model.\n",
    "\n",
    "If you use a less common loss function, please note why you chose that loss function in a comment."
   ]
  },
  {
   "cell_type": "code",
   "execution_count": 8,
   "metadata": {},
   "outputs": [],
   "source": [
    "criterion = nn.NLLLoss()\n",
    "optimizer = optim.SGD(model.parameters(), lr=0.01, momentum=0.9)"
   ]
  },
  {
   "cell_type": "markdown",
   "metadata": {},
   "source": [
    "## Running your Neural Network\n",
    "Use whatever method you like to train your neural network, and ensure you record the average loss at each epoch. \n",
    "Don't forget to use `torch.device()` and the `.to()` method for both your model and your data if you are using GPU!\n",
    "\n",
    "If you want to print your loss **during** each epoch, you can use the `enumerate` function and print the loss after a set number of batches. 250 batches works well for most people!"
   ]
  },
  {
   "cell_type": "code",
   "execution_count": 9,
   "metadata": {},
   "outputs": [],
   "source": [
    "def train(model, device, train_loader, optimizer, epoch, log_interval):\n",
    "    train_loss = 0\n",
    "    model.train()\n",
    "    for batch_idx, (data, target) in enumerate(train_loader):\n",
    "        data, target = data.to(device), target.to(device)\n",
    "        optimizer.zero_grad()\n",
    "        output = model(data)\n",
    "#         loss = F.nll_loss(output, target)\n",
    "        loss = criterion(output, target)\n",
    "        loss.backward()\n",
    "        optimizer.step()\n",
    "        if batch_idx % log_interval == 0:\n",
    "            print('Train Epoch: {} [{}/{} ({:.0f}%)]\\tLoss: {:.6f}'.format(\n",
    "                epoch, batch_idx * len(data), len(train_loader.dataset),\n",
    "                100. * batch_idx / len(train_loader), loss.item()))\n",
    "    \n",
    "        train_loss += loss.item()\n",
    "        \n",
    "    print(f'Len train loader: {len(train_loader)}')\n",
    "    print(f'Len train loader dataset: {len(train_loader.dataset)}')\n",
    "    avg_train_loss = train_loss/len(train_loader.dataset)\n",
    "    \n",
    "    return avg_train_loss"
   ]
  },
  {
   "cell_type": "code",
   "execution_count": 10,
   "metadata": {},
   "outputs": [],
   "source": [
    "def test(model, device, test_loader):\n",
    "    model.eval()\n",
    "    test_loss = 0\n",
    "    correct = 0\n",
    "    with torch.no_grad():\n",
    "        for data, target in test_loader:\n",
    "            data, target = data.to(device), target.to(device)\n",
    "            output = model(data)\n",
    "            # sum up batch loss\n",
    "#             test_loss += F.nll_loss(output, target, reduction='sum').item()\n",
    "            loss = criterion(output, target)\n",
    "            test_loss += loss.item()\n",
    "            # get the index of the max log-probability\n",
    "            pred = output.argmax(dim=1, keepdim=True)\n",
    "            correct += pred.eq(target.view_as(pred)).sum().item()\n",
    "\n",
    "    print(f'Len test loader: {len(test_loader)}')\n",
    "    print(f'Len test loader dataset: {len(test_loader.dataset)}')\n",
    "    avg_test_loss = test_loss/len(test_loader.dataset)\n",
    "    test_accuracy = correct / len(test_loader.dataset)\n",
    "\n",
    "    print('\\nTest set: Average loss: {:.4f}, Accuracy: {}/{} ({:.0f}%)\\n'.format(\n",
    "        avg_test_loss, correct, len(test_loader.dataset),\n",
    "        100. * test_accuracy))\n",
    "    \n",
    "    \n",
    "    return avg_test_loss, test_accuracy"
   ]
  },
  {
   "cell_type": "code",
   "execution_count": 11,
   "metadata": {},
   "outputs": [
    {
     "name": "stdout",
     "output_type": "stream",
     "text": [
      "Train Epoch: 1 [0/50000 (0%)]\tLoss: 2.296238\n",
      "Train Epoch: 1 [2800/50000 (6%)]\tLoss: 1.932273\n",
      "Train Epoch: 1 [5600/50000 (11%)]\tLoss: 0.669956\n",
      "Train Epoch: 1 [8400/50000 (17%)]\tLoss: 1.153392\n",
      "Train Epoch: 1 [11200/50000 (22%)]\tLoss: 0.496724\n",
      "Train Epoch: 1 [14000/50000 (28%)]\tLoss: 0.335865\n",
      "Train Epoch: 1 [16800/50000 (34%)]\tLoss: 0.585964\n",
      "Train Epoch: 1 [19600/50000 (39%)]\tLoss: 0.820317\n",
      "Train Epoch: 1 [22400/50000 (45%)]\tLoss: 0.285089\n",
      "Train Epoch: 1 [25200/50000 (50%)]\tLoss: 0.110080\n",
      "Train Epoch: 1 [28000/50000 (56%)]\tLoss: 0.116038\n",
      "Train Epoch: 1 [30800/50000 (62%)]\tLoss: 0.284235\n",
      "Train Epoch: 1 [33600/50000 (67%)]\tLoss: 0.393778\n",
      "Train Epoch: 1 [36400/50000 (73%)]\tLoss: 0.092877\n",
      "Train Epoch: 1 [39200/50000 (78%)]\tLoss: 0.543001\n",
      "Train Epoch: 1 [42000/50000 (84%)]\tLoss: 0.268203\n",
      "Train Epoch: 1 [44800/50000 (90%)]\tLoss: 0.163627\n",
      "Train Epoch: 1 [47600/50000 (95%)]\tLoss: 0.110198\n",
      "Len train loader: 1786\n",
      "Len train loader dataset: 50000\n",
      "Len test loader: 358\n",
      "Len test loader dataset: 10000\n",
      "\n",
      "Test set: Average loss: 0.0051, Accuracy: 9582/10000 (96%)\n",
      "\n",
      "Train Epoch: 2 [0/50000 (0%)]\tLoss: 0.036366\n",
      "Train Epoch: 2 [2800/50000 (6%)]\tLoss: 0.150424\n",
      "Train Epoch: 2 [5600/50000 (11%)]\tLoss: 0.367699\n",
      "Train Epoch: 2 [8400/50000 (17%)]\tLoss: 0.100059\n",
      "Train Epoch: 2 [11200/50000 (22%)]\tLoss: 0.194410\n",
      "Train Epoch: 2 [14000/50000 (28%)]\tLoss: 0.442648\n",
      "Train Epoch: 2 [16800/50000 (34%)]\tLoss: 0.023698\n",
      "Train Epoch: 2 [19600/50000 (39%)]\tLoss: 0.101215\n",
      "Train Epoch: 2 [22400/50000 (45%)]\tLoss: 0.137052\n",
      "Train Epoch: 2 [25200/50000 (50%)]\tLoss: 0.178312\n",
      "Train Epoch: 2 [28000/50000 (56%)]\tLoss: 0.090434\n",
      "Train Epoch: 2 [30800/50000 (62%)]\tLoss: 0.076073\n",
      "Train Epoch: 2 [33600/50000 (67%)]\tLoss: 0.182164\n",
      "Train Epoch: 2 [36400/50000 (73%)]\tLoss: 0.023916\n",
      "Train Epoch: 2 [39200/50000 (78%)]\tLoss: 0.121641\n",
      "Train Epoch: 2 [42000/50000 (84%)]\tLoss: 0.105275\n",
      "Train Epoch: 2 [44800/50000 (90%)]\tLoss: 0.025677\n",
      "Train Epoch: 2 [47600/50000 (95%)]\tLoss: 0.441330\n",
      "Len train loader: 1786\n",
      "Len train loader dataset: 50000\n",
      "Len test loader: 358\n",
      "Len test loader dataset: 10000\n",
      "\n",
      "Test set: Average loss: 0.0038, Accuracy: 9701/10000 (97%)\n",
      "\n",
      "Train Epoch: 3 [0/50000 (0%)]\tLoss: 0.058724\n",
      "Train Epoch: 3 [2800/50000 (6%)]\tLoss: 0.057735\n",
      "Train Epoch: 3 [5600/50000 (11%)]\tLoss: 0.371339\n",
      "Train Epoch: 3 [8400/50000 (17%)]\tLoss: 0.022492\n",
      "Train Epoch: 3 [11200/50000 (22%)]\tLoss: 0.003710\n",
      "Train Epoch: 3 [14000/50000 (28%)]\tLoss: 0.117024\n",
      "Train Epoch: 3 [16800/50000 (34%)]\tLoss: 0.034112\n",
      "Train Epoch: 3 [19600/50000 (39%)]\tLoss: 0.073097\n",
      "Train Epoch: 3 [22400/50000 (45%)]\tLoss: 0.017808\n",
      "Train Epoch: 3 [25200/50000 (50%)]\tLoss: 0.088147\n",
      "Train Epoch: 3 [28000/50000 (56%)]\tLoss: 0.319975\n",
      "Train Epoch: 3 [30800/50000 (62%)]\tLoss: 0.101607\n",
      "Train Epoch: 3 [33600/50000 (67%)]\tLoss: 0.016538\n",
      "Train Epoch: 3 [36400/50000 (73%)]\tLoss: 0.202725\n",
      "Train Epoch: 3 [39200/50000 (78%)]\tLoss: 0.382256\n",
      "Train Epoch: 3 [42000/50000 (84%)]\tLoss: 0.216755\n",
      "Train Epoch: 3 [44800/50000 (90%)]\tLoss: 0.007488\n",
      "Train Epoch: 3 [47600/50000 (95%)]\tLoss: 0.161940\n",
      "Len train loader: 1786\n",
      "Len train loader dataset: 50000\n",
      "Len test loader: 358\n",
      "Len test loader dataset: 10000\n",
      "\n",
      "Test set: Average loss: 0.0034, Accuracy: 9733/10000 (97%)\n",
      "\n",
      "Train Epoch: 4 [0/50000 (0%)]\tLoss: 0.007323\n",
      "Train Epoch: 4 [2800/50000 (6%)]\tLoss: 0.098009\n",
      "Train Epoch: 4 [5600/50000 (11%)]\tLoss: 0.149864\n",
      "Train Epoch: 4 [8400/50000 (17%)]\tLoss: 0.022061\n",
      "Train Epoch: 4 [11200/50000 (22%)]\tLoss: 0.033963\n",
      "Train Epoch: 4 [14000/50000 (28%)]\tLoss: 0.238756\n",
      "Train Epoch: 4 [16800/50000 (34%)]\tLoss: 0.107429\n",
      "Train Epoch: 4 [19600/50000 (39%)]\tLoss: 0.009083\n",
      "Train Epoch: 4 [22400/50000 (45%)]\tLoss: 0.009559\n",
      "Train Epoch: 4 [25200/50000 (50%)]\tLoss: 0.019900\n",
      "Train Epoch: 4 [28000/50000 (56%)]\tLoss: 0.317718\n",
      "Train Epoch: 4 [30800/50000 (62%)]\tLoss: 0.007070\n",
      "Train Epoch: 4 [33600/50000 (67%)]\tLoss: 0.029137\n",
      "Train Epoch: 4 [36400/50000 (73%)]\tLoss: 0.053886\n",
      "Train Epoch: 4 [39200/50000 (78%)]\tLoss: 0.017359\n",
      "Train Epoch: 4 [42000/50000 (84%)]\tLoss: 0.064095\n",
      "Train Epoch: 4 [44800/50000 (90%)]\tLoss: 0.126411\n",
      "Train Epoch: 4 [47600/50000 (95%)]\tLoss: 0.284218\n",
      "Len train loader: 1786\n",
      "Len train loader dataset: 50000\n",
      "Len test loader: 358\n",
      "Len test loader dataset: 10000\n",
      "\n",
      "Test set: Average loss: 0.0031, Accuracy: 9746/10000 (97%)\n",
      "\n",
      "Train Epoch: 5 [0/50000 (0%)]\tLoss: 0.004009\n",
      "Train Epoch: 5 [2800/50000 (6%)]\tLoss: 0.036669\n",
      "Train Epoch: 5 [5600/50000 (11%)]\tLoss: 0.152514\n",
      "Train Epoch: 5 [8400/50000 (17%)]\tLoss: 0.011684\n",
      "Train Epoch: 5 [11200/50000 (22%)]\tLoss: 0.004067\n",
      "Train Epoch: 5 [14000/50000 (28%)]\tLoss: 0.076032\n",
      "Train Epoch: 5 [16800/50000 (34%)]\tLoss: 0.008511\n",
      "Train Epoch: 5 [19600/50000 (39%)]\tLoss: 0.110482\n",
      "Train Epoch: 5 [22400/50000 (45%)]\tLoss: 0.233594\n",
      "Train Epoch: 5 [25200/50000 (50%)]\tLoss: 0.067554\n",
      "Train Epoch: 5 [28000/50000 (56%)]\tLoss: 0.333128\n",
      "Train Epoch: 5 [30800/50000 (62%)]\tLoss: 0.048698\n",
      "Train Epoch: 5 [33600/50000 (67%)]\tLoss: 0.086427\n",
      "Train Epoch: 5 [36400/50000 (73%)]\tLoss: 0.021870\n",
      "Train Epoch: 5 [39200/50000 (78%)]\tLoss: 0.174715\n",
      "Train Epoch: 5 [42000/50000 (84%)]\tLoss: 0.038145\n",
      "Train Epoch: 5 [44800/50000 (90%)]\tLoss: 0.124036\n",
      "Train Epoch: 5 [47600/50000 (95%)]\tLoss: 0.015916\n",
      "Len train loader: 1786\n",
      "Len train loader dataset: 50000\n",
      "Len test loader: 358\n",
      "Len test loader dataset: 10000\n",
      "\n",
      "Test set: Average loss: 0.0036, Accuracy: 9725/10000 (97%)\n",
      "\n",
      "Model validation accuracy: 97.25%\n"
     ]
    }
   ],
   "source": [
    "n_epochs = 5\n",
    "\n",
    "# Create list to store loss\n",
    "train_loss_history = list()\n",
    "val_loss_history = list()\n",
    "val_accuracy_history = list()\n",
    "\n",
    "# Train the model\n",
    "for epoch in range(1, n_epochs + 1):\n",
    "    epoch_train_loss = train(model, device, train_loader, optimizer, epoch, 100)\n",
    "    epoch_val_loss, epoch_val_accuracy = test(model, device, val_loader)\n",
    "    \n",
    "    train_loss_history.append(epoch_train_loss)\n",
    "    val_loss_history.append(epoch_val_loss)\n",
    "    val_accuracy_history.append(epoch_val_accuracy)\n",
    "    \n",
    "print(f'Model validation accuracy: {100*val_accuracy_history[-1]:.2f}%')    "
   ]
  },
  {
   "cell_type": "markdown",
   "metadata": {},
   "source": [
    "Plot the training loss (and validation loss/accuracy, if recorded)."
   ]
  },
  {
   "cell_type": "code",
   "execution_count": 12,
   "metadata": {},
   "outputs": [
    {
     "data": {
      "image/png": "[encoded data removed]",
      "text/plain": [
       "<Figure size 432x288 with 1 Axes>"
      ]
     },
     "metadata": {
      "needs_background": "light"
     },
     "output_type": "display_data"
    }
   ],
   "source": [
    "plt.plot(train_loss_history, label=\"Training Loss\")\n",
    "plt.plot(val_loss_history, label=\"Validation Loss\")\n",
    "plt.legend()\n",
    "plt.show()"
   ]
  },
  {
   "cell_type": "markdown",
   "metadata": {},
   "source": [
    "## Testing your model\n",
    "Using the previously created `DataLoader` for the test set, compute the percentage of correct predictions using the highest probability prediction. \n",
    "\n",
    "If your accuracy is over 90%, great work, but see if you can push a bit further! \n",
    "If your accuracy is under 90%, you'll need to make improvements.\n",
    "Go back and check your model architecture, loss function, and optimizer to make sure they're appropriate for an image classification task."
   ]
  },
  {
   "cell_type": "code",
   "execution_count": 13,
   "metadata": {},
   "outputs": [
    {
     "name": "stdout",
     "output_type": "stream",
     "text": [
      "Len test loader: 358\n",
      "Len test loader dataset: 10000\n",
      "\n",
      "Test set: Average loss: 0.0035, Accuracy: 9716/10000 (97%)\n",
      "\n",
      "Model test accuracy: 97.16%\n"
     ]
    }
   ],
   "source": [
    "# Test the model\n",
    "test_loss, test_accuracy = test(model, device, test_loader)\n",
    "            \n",
    "print(f'Model test accuracy: {100*test_accuracy:.2f}%') "
   ]
  },
  {
   "cell_type": "markdown",
   "metadata": {},
   "source": [
    "## Improving your model\n",
    "\n",
    "Once your model is done training, try tweaking your hyperparameters and training again below to improve your accuracy on the test set!"
   ]
  },
  {
   "cell_type": "code",
   "execution_count": 14,
   "metadata": {},
   "outputs": [],
   "source": [
    "# Define the class of the neural network\n",
    "class Net2(nn.Module):\n",
    "    def __init__(self):\n",
    "        super(Net2, self).__init__()\n",
    "        self.flatten = nn.Flatten()\n",
    "        self.fc1 = nn.Linear(28*28, 512)\n",
    "        self.fc2 = nn.Linear(512, 256)\n",
    "        self.fc3 = nn.Linear(256, 128)\n",
    "        self.fc4 = nn.Linear(128, 64)\n",
    "        self.fc5 = nn.Linear(64, 10)\n",
    "        \n",
    "        # Dropout module with 0.2 probbability\n",
    "        self.dropout = nn.Dropout(p=0.25)\n",
    "        self.log_softmax = F.log_softmax\n",
    "\n",
    "    def forward(self, x):        \n",
    "        x = self.flatten(x)\n",
    "        x = self.dropout(F.relu(self.fc1(x)))\n",
    "        x = self.dropout(F.relu(self.fc2(x)))\n",
    "        x = self.dropout(F.relu(self.fc3(x)))\n",
    "        x = self.dropout(F.relu(self.fc4(x)))\n",
    "        x = self.log_softmax(self.fc5(x), dim=1)       \n",
    "        \n",
    "        return x"
   ]
  },
  {
   "cell_type": "code",
   "execution_count": 18,
   "metadata": {},
   "outputs": [
    {
     "name": "stdout",
     "output_type": "stream",
     "text": [
      "Train Epoch: 1 [0/50000 (0%)]\tLoss: 2.302156\n",
      "Train Epoch: 1 [2800/50000 (6%)]\tLoss: 2.311321\n",
      "Train Epoch: 1 [5600/50000 (11%)]\tLoss: 2.298887\n",
      "Train Epoch: 1 [8400/50000 (17%)]\tLoss: 2.297371\n",
      "Train Epoch: 1 [11200/50000 (22%)]\tLoss: 2.278032\n",
      "Train Epoch: 1 [14000/50000 (28%)]\tLoss: 2.297268\n",
      "Train Epoch: 1 [16800/50000 (34%)]\tLoss: 2.247771\n",
      "Train Epoch: 1 [19600/50000 (39%)]\tLoss: 2.094756\n",
      "Train Epoch: 1 [22400/50000 (45%)]\tLoss: 2.075878\n",
      "Train Epoch: 1 [25200/50000 (50%)]\tLoss: 1.817349\n",
      "Train Epoch: 1 [28000/50000 (56%)]\tLoss: 1.164982\n",
      "Train Epoch: 1 [30800/50000 (62%)]\tLoss: 1.344666\n",
      "Train Epoch: 1 [33600/50000 (67%)]\tLoss: 1.033833\n",
      "Train Epoch: 1 [36400/50000 (73%)]\tLoss: 1.139241\n",
      "Train Epoch: 1 [39200/50000 (78%)]\tLoss: 0.994912\n",
      "Train Epoch: 1 [42000/50000 (84%)]\tLoss: 0.780493\n",
      "Train Epoch: 1 [44800/50000 (90%)]\tLoss: 1.199083\n",
      "Train Epoch: 1 [47600/50000 (95%)]\tLoss: 0.513964\n",
      "Len train loader: 1786\n",
      "Len train loader dataset: 50000\n",
      "Len test loader: 358\n",
      "Len test loader dataset: 10000\n",
      "\n",
      "Test set: Average loss: 0.0183, Accuracy: 8541/10000 (85%)\n",
      "\n",
      "Train Epoch: 2 [0/50000 (0%)]\tLoss: 0.674383\n",
      "Train Epoch: 2 [2800/50000 (6%)]\tLoss: 0.482649\n",
      "Train Epoch: 2 [5600/50000 (11%)]\tLoss: 0.418728\n",
      "Train Epoch: 2 [8400/50000 (17%)]\tLoss: 0.647082\n",
      "Train Epoch: 2 [11200/50000 (22%)]\tLoss: 1.025602\n",
      "Train Epoch: 2 [14000/50000 (28%)]\tLoss: 0.655048\n",
      "Train Epoch: 2 [16800/50000 (34%)]\tLoss: 0.436795\n",
      "Train Epoch: 2 [19600/50000 (39%)]\tLoss: 0.967758\n",
      "Train Epoch: 2 [22400/50000 (45%)]\tLoss: 0.799001\n",
      "Train Epoch: 2 [25200/50000 (50%)]\tLoss: 0.589988\n",
      "Train Epoch: 2 [28000/50000 (56%)]\tLoss: 0.340665\n",
      "Train Epoch: 2 [30800/50000 (62%)]\tLoss: 0.579637\n",
      "Train Epoch: 2 [33600/50000 (67%)]\tLoss: 0.441816\n",
      "Train Epoch: 2 [36400/50000 (73%)]\tLoss: 0.403797\n",
      "Train Epoch: 2 [39200/50000 (78%)]\tLoss: 0.567207\n",
      "Train Epoch: 2 [42000/50000 (84%)]\tLoss: 0.637325\n",
      "Train Epoch: 2 [44800/50000 (90%)]\tLoss: 0.518853\n",
      "Train Epoch: 2 [47600/50000 (95%)]\tLoss: 0.147279\n",
      "Len train loader: 1786\n",
      "Len train loader dataset: 50000\n",
      "Len test loader: 358\n",
      "Len test loader dataset: 10000\n",
      "\n",
      "Test set: Average loss: 0.0086, Accuracy: 9278/10000 (93%)\n",
      "\n",
      "Train Epoch: 3 [0/50000 (0%)]\tLoss: 0.456712\n",
      "Train Epoch: 3 [2800/50000 (6%)]\tLoss: 0.426583\n",
      "Train Epoch: 3 [5600/50000 (11%)]\tLoss: 0.569793\n",
      "Train Epoch: 3 [8400/50000 (17%)]\tLoss: 0.116130\n",
      "Train Epoch: 3 [11200/50000 (22%)]\tLoss: 0.224433\n",
      "Train Epoch: 3 [14000/50000 (28%)]\tLoss: 0.393795\n",
      "Train Epoch: 3 [16800/50000 (34%)]\tLoss: 0.741462\n",
      "Train Epoch: 3 [19600/50000 (39%)]\tLoss: 0.305055\n",
      "Train Epoch: 3 [22400/50000 (45%)]\tLoss: 0.151464\n",
      "Train Epoch: 3 [25200/50000 (50%)]\tLoss: 0.310140\n",
      "Train Epoch: 3 [28000/50000 (56%)]\tLoss: 0.216041\n",
      "Train Epoch: 3 [30800/50000 (62%)]\tLoss: 0.228487\n",
      "Train Epoch: 3 [33600/50000 (67%)]\tLoss: 0.349400\n",
      "Train Epoch: 3 [36400/50000 (73%)]\tLoss: 0.290055\n",
      "Train Epoch: 3 [39200/50000 (78%)]\tLoss: 0.456968\n",
      "Train Epoch: 3 [42000/50000 (84%)]\tLoss: 0.324416\n",
      "Train Epoch: 3 [44800/50000 (90%)]\tLoss: 0.330795\n",
      "Train Epoch: 3 [47600/50000 (95%)]\tLoss: 0.072748\n",
      "Len train loader: 1786\n",
      "Len train loader dataset: 50000\n",
      "Len test loader: 358\n",
      "Len test loader dataset: 10000\n",
      "\n",
      "Test set: Average loss: 0.0057, Accuracy: 9512/10000 (95%)\n",
      "\n",
      "Train Epoch: 4 [0/50000 (0%)]\tLoss: 0.229787\n",
      "Train Epoch: 4 [2800/50000 (6%)]\tLoss: 0.113891\n",
      "Train Epoch: 4 [5600/50000 (11%)]\tLoss: 0.224917\n",
      "Train Epoch: 4 [8400/50000 (17%)]\tLoss: 0.330975\n",
      "Train Epoch: 4 [11200/50000 (22%)]\tLoss: 0.059624\n",
      "Train Epoch: 4 [14000/50000 (28%)]\tLoss: 0.398998\n",
      "Train Epoch: 4 [16800/50000 (34%)]\tLoss: 0.126818\n",
      "Train Epoch: 4 [19600/50000 (39%)]\tLoss: 0.118576\n",
      "Train Epoch: 4 [22400/50000 (45%)]\tLoss: 0.155831\n",
      "Train Epoch: 4 [25200/50000 (50%)]\tLoss: 0.162030\n",
      "Train Epoch: 4 [28000/50000 (56%)]\tLoss: 0.361917\n",
      "Train Epoch: 4 [30800/50000 (62%)]\tLoss: 0.094146\n",
      "Train Epoch: 4 [33600/50000 (67%)]\tLoss: 0.106965\n",
      "Train Epoch: 4 [36400/50000 (73%)]\tLoss: 0.341389\n",
      "Train Epoch: 4 [39200/50000 (78%)]\tLoss: 0.185516\n",
      "Train Epoch: 4 [42000/50000 (84%)]\tLoss: 0.015148\n",
      "Train Epoch: 4 [44800/50000 (90%)]\tLoss: 0.131701\n",
      "Train Epoch: 4 [47600/50000 (95%)]\tLoss: 0.154029\n",
      "Len train loader: 1786\n",
      "Len train loader dataset: 50000\n",
      "Len test loader: 358\n",
      "Len test loader dataset: 10000\n",
      "\n",
      "Test set: Average loss: 0.0045, Accuracy: 9616/10000 (96%)\n",
      "\n",
      "Train Epoch: 5 [0/50000 (0%)]\tLoss: 0.054241\n",
      "Train Epoch: 5 [2800/50000 (6%)]\tLoss: 0.440095\n",
      "Train Epoch: 5 [5600/50000 (11%)]\tLoss: 0.108989\n",
      "Train Epoch: 5 [8400/50000 (17%)]\tLoss: 0.374571\n",
      "Train Epoch: 5 [11200/50000 (22%)]\tLoss: 0.078578\n",
      "Train Epoch: 5 [14000/50000 (28%)]\tLoss: 0.128815\n",
      "Train Epoch: 5 [16800/50000 (34%)]\tLoss: 0.346952\n",
      "Train Epoch: 5 [19600/50000 (39%)]\tLoss: 0.279491\n",
      "Train Epoch: 5 [22400/50000 (45%)]\tLoss: 0.098430\n",
      "Train Epoch: 5 [25200/50000 (50%)]\tLoss: 0.146149\n",
      "Train Epoch: 5 [28000/50000 (56%)]\tLoss: 0.117426\n",
      "Train Epoch: 5 [30800/50000 (62%)]\tLoss: 0.194357\n",
      "Train Epoch: 5 [33600/50000 (67%)]\tLoss: 0.117475\n",
      "Train Epoch: 5 [36400/50000 (73%)]\tLoss: 0.109380\n",
      "Train Epoch: 5 [39200/50000 (78%)]\tLoss: 0.124640\n",
      "Train Epoch: 5 [42000/50000 (84%)]\tLoss: 0.417352\n",
      "Train Epoch: 5 [44800/50000 (90%)]\tLoss: 0.348760\n",
      "Train Epoch: 5 [47600/50000 (95%)]\tLoss: 0.215982\n",
      "Len train loader: 1786\n",
      "Len train loader dataset: 50000\n",
      "Len test loader: 358\n",
      "Len test loader dataset: 10000\n",
      "\n",
      "Test set: Average loss: 0.0040, Accuracy: 9663/10000 (97%)\n",
      "\n",
      "Train Epoch: 6 [0/50000 (0%)]\tLoss: 0.297009\n",
      "Train Epoch: 6 [2800/50000 (6%)]\tLoss: 0.059264\n",
      "Train Epoch: 6 [5600/50000 (11%)]\tLoss: 0.168711\n",
      "Train Epoch: 6 [8400/50000 (17%)]\tLoss: 0.099945\n",
      "Train Epoch: 6 [11200/50000 (22%)]\tLoss: 0.252690\n",
      "Train Epoch: 6 [14000/50000 (28%)]\tLoss: 0.596432\n",
      "Train Epoch: 6 [16800/50000 (34%)]\tLoss: 0.038933\n",
      "Train Epoch: 6 [19600/50000 (39%)]\tLoss: 0.576211\n",
      "Train Epoch: 6 [22400/50000 (45%)]\tLoss: 0.258990\n",
      "Train Epoch: 6 [25200/50000 (50%)]\tLoss: 0.140058\n",
      "Train Epoch: 6 [28000/50000 (56%)]\tLoss: 0.163856\n",
      "Train Epoch: 6 [30800/50000 (62%)]\tLoss: 0.669416\n",
      "Train Epoch: 6 [33600/50000 (67%)]\tLoss: 0.122166\n",
      "Train Epoch: 6 [36400/50000 (73%)]\tLoss: 0.572365\n",
      "Train Epoch: 6 [39200/50000 (78%)]\tLoss: 0.083331\n",
      "Train Epoch: 6 [42000/50000 (84%)]\tLoss: 0.204573\n",
      "Train Epoch: 6 [44800/50000 (90%)]\tLoss: 0.038677\n",
      "Train Epoch: 6 [47600/50000 (95%)]\tLoss: 0.214710\n",
      "Len train loader: 1786\n",
      "Len train loader dataset: 50000\n",
      "Len test loader: 358\n",
      "Len test loader dataset: 10000\n",
      "\n",
      "Test set: Average loss: 0.0036, Accuracy: 9700/10000 (97%)\n",
      "\n",
      "Train Epoch: 7 [0/50000 (0%)]\tLoss: 0.149907\n",
      "Train Epoch: 7 [2800/50000 (6%)]\tLoss: 0.176544\n",
      "Train Epoch: 7 [5600/50000 (11%)]\tLoss: 0.206767\n",
      "Train Epoch: 7 [8400/50000 (17%)]\tLoss: 0.130461\n",
      "Train Epoch: 7 [11200/50000 (22%)]\tLoss: 0.201935\n",
      "Train Epoch: 7 [14000/50000 (28%)]\tLoss: 0.156687\n",
      "Train Epoch: 7 [16800/50000 (34%)]\tLoss: 0.073144\n",
      "Train Epoch: 7 [19600/50000 (39%)]\tLoss: 0.116085\n",
      "Train Epoch: 7 [22400/50000 (45%)]\tLoss: 0.133049\n",
      "Train Epoch: 7 [25200/50000 (50%)]\tLoss: 0.123821\n",
      "Train Epoch: 7 [28000/50000 (56%)]\tLoss: 0.072251\n",
      "Train Epoch: 7 [30800/50000 (62%)]\tLoss: 0.164554\n",
      "Train Epoch: 7 [33600/50000 (67%)]\tLoss: 0.168436\n",
      "Train Epoch: 7 [36400/50000 (73%)]\tLoss: 0.137251\n",
      "Train Epoch: 7 [39200/50000 (78%)]\tLoss: 0.087029\n",
      "Train Epoch: 7 [42000/50000 (84%)]\tLoss: 0.182316\n",
      "Train Epoch: 7 [44800/50000 (90%)]\tLoss: 0.132623\n",
      "Train Epoch: 7 [47600/50000 (95%)]\tLoss: 0.146087\n",
      "Len train loader: 1786\n",
      "Len train loader dataset: 50000\n",
      "Len test loader: 358\n",
      "Len test loader dataset: 10000\n",
      "\n",
      "Test set: Average loss: 0.0033, Accuracy: 9725/10000 (97%)\n",
      "\n",
      "Train Epoch: 8 [0/50000 (0%)]\tLoss: 0.059401\n",
      "Train Epoch: 8 [2800/50000 (6%)]\tLoss: 0.058950\n",
      "Train Epoch: 8 [5600/50000 (11%)]\tLoss: 0.074274\n",
      "Train Epoch: 8 [8400/50000 (17%)]\tLoss: 0.044757\n",
      "Train Epoch: 8 [11200/50000 (22%)]\tLoss: 0.133022\n",
      "Train Epoch: 8 [14000/50000 (28%)]\tLoss: 0.265894\n",
      "Train Epoch: 8 [16800/50000 (34%)]\tLoss: 0.060909\n",
      "Train Epoch: 8 [19600/50000 (39%)]\tLoss: 0.047516\n",
      "Train Epoch: 8 [22400/50000 (45%)]\tLoss: 0.032049\n",
      "Train Epoch: 8 [25200/50000 (50%)]\tLoss: 0.213142\n",
      "Train Epoch: 8 [28000/50000 (56%)]\tLoss: 0.270873\n",
      "Train Epoch: 8 [30800/50000 (62%)]\tLoss: 0.885872\n",
      "Train Epoch: 8 [33600/50000 (67%)]\tLoss: 0.095348\n",
      "Train Epoch: 8 [36400/50000 (73%)]\tLoss: 0.053975\n",
      "Train Epoch: 8 [39200/50000 (78%)]\tLoss: 0.321135\n",
      "Train Epoch: 8 [42000/50000 (84%)]\tLoss: 0.041164\n"
     ]
    },
    {
     "name": "stdout",
     "output_type": "stream",
     "text": [
      "Train Epoch: 8 [44800/50000 (90%)]\tLoss: 0.236803\n",
      "Train Epoch: 8 [47600/50000 (95%)]\tLoss: 0.140172\n",
      "Len train loader: 1786\n",
      "Len train loader dataset: 50000\n",
      "Len test loader: 358\n",
      "Len test loader dataset: 10000\n",
      "\n",
      "Test set: Average loss: 0.0034, Accuracy: 9736/10000 (97%)\n",
      "\n",
      "Train Epoch: 9 [0/50000 (0%)]\tLoss: 0.031401\n",
      "Train Epoch: 9 [2800/50000 (6%)]\tLoss: 0.099754\n",
      "Train Epoch: 9 [5600/50000 (11%)]\tLoss: 0.077241\n",
      "Train Epoch: 9 [8400/50000 (17%)]\tLoss: 0.017211\n",
      "Train Epoch: 9 [11200/50000 (22%)]\tLoss: 0.056308\n",
      "Train Epoch: 9 [14000/50000 (28%)]\tLoss: 0.039029\n",
      "Train Epoch: 9 [16800/50000 (34%)]\tLoss: 0.496842\n",
      "Train Epoch: 9 [19600/50000 (39%)]\tLoss: 0.146190\n",
      "Train Epoch: 9 [22400/50000 (45%)]\tLoss: 0.055169\n",
      "Train Epoch: 9 [25200/50000 (50%)]\tLoss: 0.044832\n",
      "Train Epoch: 9 [28000/50000 (56%)]\tLoss: 0.051533\n",
      "Train Epoch: 9 [30800/50000 (62%)]\tLoss: 0.251771\n",
      "Train Epoch: 9 [33600/50000 (67%)]\tLoss: 0.676488\n",
      "Train Epoch: 9 [36400/50000 (73%)]\tLoss: 0.048365\n",
      "Train Epoch: 9 [39200/50000 (78%)]\tLoss: 0.127972\n",
      "Train Epoch: 9 [42000/50000 (84%)]\tLoss: 0.049900\n",
      "Train Epoch: 9 [44800/50000 (90%)]\tLoss: 0.201150\n",
      "Train Epoch: 9 [47600/50000 (95%)]\tLoss: 0.113786\n",
      "Len train loader: 1786\n",
      "Len train loader dataset: 50000\n",
      "Len test loader: 358\n",
      "Len test loader dataset: 10000\n",
      "\n",
      "Test set: Average loss: 0.0032, Accuracy: 9745/10000 (97%)\n",
      "\n",
      "Train Epoch: 10 [0/50000 (0%)]\tLoss: 0.022380\n",
      "Train Epoch: 10 [2800/50000 (6%)]\tLoss: 0.036105\n",
      "Train Epoch: 10 [5600/50000 (11%)]\tLoss: 0.007462\n",
      "Train Epoch: 10 [8400/50000 (17%)]\tLoss: 0.241772\n",
      "Train Epoch: 10 [11200/50000 (22%)]\tLoss: 0.086211\n",
      "Train Epoch: 10 [14000/50000 (28%)]\tLoss: 0.030875\n",
      "Train Epoch: 10 [16800/50000 (34%)]\tLoss: 0.094132\n",
      "Train Epoch: 10 [19600/50000 (39%)]\tLoss: 0.021245\n",
      "Train Epoch: 10 [22400/50000 (45%)]\tLoss: 0.034470\n",
      "Train Epoch: 10 [25200/50000 (50%)]\tLoss: 0.075425\n",
      "Train Epoch: 10 [28000/50000 (56%)]\tLoss: 0.076897\n",
      "Train Epoch: 10 [30800/50000 (62%)]\tLoss: 0.113391\n",
      "Train Epoch: 10 [33600/50000 (67%)]\tLoss: 0.026549\n",
      "Train Epoch: 10 [36400/50000 (73%)]\tLoss: 0.025096\n",
      "Train Epoch: 10 [39200/50000 (78%)]\tLoss: 0.048836\n",
      "Train Epoch: 10 [42000/50000 (84%)]\tLoss: 0.185522\n",
      "Train Epoch: 10 [44800/50000 (90%)]\tLoss: 0.022047\n",
      "Train Epoch: 10 [47600/50000 (95%)]\tLoss: 0.021096\n",
      "Len train loader: 1786\n",
      "Len train loader dataset: 50000\n",
      "Len test loader: 358\n",
      "Len test loader dataset: 10000\n",
      "\n",
      "Test set: Average loss: 0.0030, Accuracy: 9764/10000 (98%)\n",
      "\n"
     ]
    }
   ],
   "source": [
    "n_epochs = 10\n",
    "\n",
    "model2 = Net2().to(device)\n",
    "optimizer2 = optim.SGD(model2.parameters(), lr=0.001, momentum=0.90)\n",
    "\n",
    "# Create list to store loss\n",
    "train_loss_history2 = list()\n",
    "val_loss_history2 = list()\n",
    "val_accuracy_history2 = list()\n",
    "\n",
    "# Train the model\n",
    "for epoch in range(1, n_epochs + 1):\n",
    "    epoch_train_loss2 = train(model2, device, train_loader, optimizer2, epoch, 100)\n",
    "    epoch_val_loss2, epoch_val_accuracy2 = test(model2, device, val_loader)\n",
    "    \n",
    "    train_loss_history2.append(epoch_train_loss2)\n",
    "    val_loss_history2.append(epoch_val_loss2)\n",
    "    val_accuracy_history2.append(epoch_val_accuracy2)    "
   ]
  },
  {
   "cell_type": "code",
   "execution_count": 19,
   "metadata": {},
   "outputs": [
    {
     "data": {
      "image/png": "[encoded data removed]",
      "text/plain": [
       "<Figure size 432x288 with 1 Axes>"
      ]
     },
     "metadata": {
      "needs_background": "light"
     },
     "output_type": "display_data"
    },
    {
     "name": "stdout",
     "output_type": "stream",
     "text": [
      "Model validation accuracy: 97.64%\n"
     ]
    }
   ],
   "source": [
    "plt.plot(train_loss_history2, label=\"Training Loss\")\n",
    "plt.plot(val_loss_history2, label=\"Validation Loss\")\n",
    "plt.legend()\n",
    "plt.show()\n",
    "\n",
    "print(f'Model validation accuracy: {100*val_accuracy_history2[-1]:.2f}%')"
   ]
  },
  {
   "cell_type": "code",
   "execution_count": 20,
   "metadata": {},
   "outputs": [
    {
     "name": "stdout",
     "output_type": "stream",
     "text": [
      "Len test loader: 358\n",
      "Len test loader dataset: 10000\n",
      "\n",
      "Test set: Average loss: 0.0031, Accuracy: 9749/10000 (97%)\n",
      "\n",
      "Model test accuracy: 97.49%\n"
     ]
    }
   ],
   "source": [
    "# Test the model    \n",
    "test_loss2, test_accuracy2 = test(model2, device, test_loader)\n",
    "        \n",
    "print(f'Model test accuracy: {100*test_accuracy2:.2f}%')    "
   ]
  },
  {
   "cell_type": "markdown",
   "metadata": {},
   "source": [
    "## Saving your model\n",
    "Using `torch.save`, save your model for future loading."
   ]
  },
  {
   "cell_type": "code",
   "execution_count": 21,
   "metadata": {},
   "outputs": [],
   "source": [
    "torch.save(model2.state_dict(), \"mnist_model.pth\")"
   ]
  },
  {
   "cell_type": "code",
   "execution_count": null,
   "metadata": {},
   "outputs": [],
   "source": []
  }
 ],
 "metadata": {
  "kernelspec": {
   "display_name": "Python 3",
   "language": "python",
   "name": "python3"
  },
  "language_info": {
   "codemirror_mode": {
    "name": "ipython",
    "version": 3
   },
   "file_extension": ".py",
   "mimetype": "text/x-python",
   "name": "python",
   "nbconvert_exporter": "python",
   "pygments_lexer": "ipython3",
   "version": "3.7.6"
  }
 },
 "nbformat": 4,
 "nbformat_minor": 4
}
